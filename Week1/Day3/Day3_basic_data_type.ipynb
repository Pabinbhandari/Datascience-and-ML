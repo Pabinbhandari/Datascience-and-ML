{
 "cells": [
  {
   "cell_type": "markdown",
   "metadata": {
    "id": "pYAL7fboAZFn"
   },
   "source": [
    "## Python Data Types\n",
    "- Data Types refers to the classification of data values based on their characteristics.\n",
    "- Python Data Type means how Python represents different types of data.\n",
    "- **Categories**\n",
    "  1. `Basic Data Types`:\n",
    "    - They are fundamental Data Types provided by the language itself.\n",
    "    - Example: Integer, Float, Complex Numbers, Boolean, String\n",
    "\n",
    "  2. `Compound Data Types`:\n",
    "    - They are composed of multiple basic data types or other compound data types.\n",
    "    - Example: List, Tuple, Set, Dictionary, etc\n",
    "\n",
    "\n",
    "<img src='https://drive.google.com/uc?id=12s3_weoabmPHMpk3GNMjtgNxL5ngZCOj'>"
   ]
  },
  {
   "cell_type": "markdown",
   "metadata": {
    "id": "Oy2l2S6VD4Rx"
   },
   "source": [
    "## 1. Numbers in Python\n",
    "- Python has mainly 3 categories of numbers i.e.  \n",
    "  i. `Integer`: whole number (no decimal point). Can be postive or negative.  \n",
    "  ii. `Float`: Real Numbers. Includes decimal points or use exponential (e) to define numbers  \n",
    "  iii. `Complex`: Expressed as real and imaginary part i.e **a + jb**   \n",
    "  \n",
    "\n",
    "| Examples                 | Number \"Type\"        |\n",
    "|--------------------------|----------------------|\n",
    "| 1, 2, -5, 1000           | Integers             |\n",
    "| 1.2, -0.5, 2e2, 3E2     | Floating-point numbers |\n",
    "| 3+4j, -2j, 1+2j, -5-6j | Complex numbers      |\n"
   ]
  },
  {
   "cell_type": "markdown",
   "metadata": {
    "id": "FanG-i1syKvf"
   },
   "source": [
    "**NoneType**  \n",
    "- The `None` keyword is used to define a null value, or no value at all.\n",
    "- `Uses`: can be treated as placeholder object\n",
    "- None is not the same as 0, False, or an empty string.\n",
    "- None is a data type of its own NoneType, and only None can be None.\n"
   ]
  },
  {
   "cell_type": "code",
   "execution_count": 1,
   "metadata": {
    "id": "x_8rpt7uyy8L"
   },
   "outputs": [
    {
     "name": "stdout",
     "output_type": "stream",
     "text": [
      "10\n"
     ]
    }
   ],
   "source": [
    "# Uncomment below line and initialize variables  \"non_value\" to None\n",
    "\n",
    "non_value = 10\n",
    "print(non_value)"
   ]
  },
  {
   "cell_type": "code",
   "execution_count": 3,
   "metadata": {
    "id": "PNYye5AEzFB3"
   },
   "outputs": [
    {
     "data": {
      "text/plain": [
       "int"
      ]
     },
     "execution_count": 3,
     "metadata": {},
     "output_type": "execute_result"
    }
   ],
   "source": [
    "# Get data type of variable \"non_value\" and\n",
    "# print the result \n",
    "type(non_value)\n"
   ]
  },
  {
   "cell_type": "markdown",
   "metadata": {
    "id": "ZsEajcQikhWG"
   },
   "source": [
    "**Integer Type**"
   ]
  },
  {
   "cell_type": "code",
   "execution_count": 4,
   "metadata": {
    "id": "JfNBTTfQAQ1Z"
   },
   "outputs": [
    {
     "name": "stdout",
     "output_type": "stream",
     "text": [
      "5\n"
     ]
    }
   ],
   "source": [
    "# assign integer value 5 to variable named \"int_value\" and,\n",
    "# print the result\n",
    "\n",
    "int_value = 5\n",
    "print(int_value)"
   ]
  },
  {
   "cell_type": "code",
   "execution_count": 5,
   "metadata": {
    "id": "oElXcETmko5n"
   },
   "outputs": [
    {
     "name": "stdout",
     "output_type": "stream",
     "text": [
      "10\n"
     ]
    }
   ],
   "source": [
    "# Variable reassignment\n",
    "# assign new value 10 to same variable named \"int_value\" and,\n",
    "# print the result\n",
    "int_value=10\n",
    "print(int_value)\n"
   ]
  },
  {
   "cell_type": "markdown",
   "metadata": {
    "id": "ffI92aYllhQ_"
   },
   "source": [
    "We can see, Due to `Dynamic Typing` Python allows us to dynamically reassign the values assigned to the variables."
   ]
  },
  {
   "cell_type": "code",
   "execution_count": 12,
   "metadata": {
    "id": "tvyHWdhVp7zE"
   },
   "outputs": [
    {
     "name": "stdout",
     "output_type": "stream",
     "text": [
      "140725459761848\n",
      "140725459761784\n"
     ]
    }
   ],
   "source": [
    "# Display id of variable \"int_value\"\n",
    "int_value=9\n",
    "\n",
    "print(id(int_value))\n",
    "int_value=7\n",
    "print(id(int_value))\n"
   ]
  },
  {
   "cell_type": "code",
   "execution_count": 8,
   "metadata": {
    "id": "lnmIx0rylgeG"
   },
   "outputs": [
    {
     "name": "stdout",
     "output_type": "stream",
     "text": [
      "Data Type: 12.1\n"
     ]
    },
    {
     "data": {
      "text/plain": [
       "float"
      ]
     },
     "execution_count": 8,
     "metadata": {},
     "output_type": "execute_result"
    }
   ],
   "source": [
    "# Display type of the variable \"int_value\"\n",
    "# use: type() function\n",
    "\n",
    "int_type = 12.1\n",
    "print(\"Data Type:\", int_type)\n",
    "type(int_type)"
   ]
  },
  {
   "cell_type": "markdown",
   "metadata": {
    "id": "mLPGhMyJoW52"
   },
   "source": [
    "In output we can see, `Data Type: <class 'int'>`. It means when we create variables, we are actually creating object of that Data Type (Integer). So, in python everything is class and object."
   ]
  },
  {
   "cell_type": "code",
   "execution_count": 21,
   "metadata": {
    "id": "6E0OMShpoQlx"
   },
   "outputs": [
    {
     "name": "stdout",
     "output_type": "stream",
     "text": [
      "True\n"
     ]
    }
   ],
   "source": [
    "# Verify integer type using isinstance() function\n",
    "# hint: isinstance(var_name, int)\n",
    "x=isinstance(5,int)\n",
    "print(x)\n"
   ]
  },
  {
   "cell_type": "code",
   "execution_count": 13,
   "metadata": {
    "id": "2Cr4hNwzpTzH"
   },
   "outputs": [
    {
     "name": "stdout",
     "output_type": "stream",
     "text": [
      "20.0\n"
     ]
    }
   ],
   "source": [
    "# assign float value 2e1 to variable named \"float_value\"\n",
    "# print the result\n",
    "\n",
    "float_value = 2e1\n",
    "print(float_value)"
   ]
  },
  {
   "cell_type": "code",
   "execution_count": 14,
   "metadata": {
    "id": "W6QLPcJ837cJ"
   },
   "outputs": [
    {
     "data": {
      "text/plain": [
       "float"
      ]
     },
     "execution_count": 14,
     "metadata": {},
     "output_type": "execute_result"
    }
   ],
   "source": [
    "# get variable data type and print the result\n",
    "type(float_value)"
   ]
  },
  {
   "cell_type": "code",
   "execution_count": 22,
   "metadata": {
    "id": "rbuNAG-B4Ig7"
   },
   "outputs": [
    {
     "name": "stdout",
     "output_type": "stream",
     "text": [
      "True\n"
     ]
    }
   ],
   "source": [
    "# verify float type using isinstance() function\n",
    "y=isinstance(12.9,float)\n",
    "print(y)\n"
   ]
  },
  {
   "cell_type": "code",
   "execution_count": 23,
   "metadata": {
    "id": "pWZj8Q354MXf"
   },
   "outputs": [
    {
     "name": "stdout",
     "output_type": "stream",
     "text": [
      "2101037296016\n"
     ]
    }
   ],
   "source": [
    "# Display id of the variable \"float_value\"\n",
    "float_value=12.2\n",
    "print(id(float_value))\n",
    "\n"
   ]
  },
  {
   "cell_type": "code",
   "execution_count": 24,
   "metadata": {
    "id": "c-2VQFeT3lMd"
   },
   "outputs": [
    {
     "name": "stdout",
     "output_type": "stream",
     "text": [
      "99.99\n"
     ]
    }
   ],
   "source": [
    "# variable reassignment\n",
    "#\n",
    "# assign new float value say 100.11 to same variable named \"float_value\" and,\n",
    "# print the result\n",
    "float_value = 99.99\n",
    "print(float_value)\n"
   ]
  },
  {
   "cell_type": "code",
   "execution_count": 25,
   "metadata": {
    "id": "NyXSsqOr35iO"
   },
   "outputs": [
    {
     "name": "stdout",
     "output_type": "stream",
     "text": [
      "<class 'float'>\n"
     ]
    }
   ],
   "source": [
    "# get variable data type and,\n",
    "# print the result\n",
    "result = type(float_value)\n",
    "print(result)"
   ]
  },
  {
   "cell_type": "code",
   "execution_count": 26,
   "metadata": {
    "id": "CC9yg5cj4-BP"
   },
   "outputs": [
    {
     "name": "stdout",
     "output_type": "stream",
     "text": [
      "2101055397008\n"
     ]
    }
   ],
   "source": [
    "# Display id of the variable \"float_value\" after variable reassignment\n",
    "float_value=99.99\n",
    "print(id(float_value))\n"
   ]
  },
  {
   "cell_type": "markdown",
   "metadata": {
    "id": "xEWyIwgA5C39"
   },
   "source": [
    "As we can see, `id` changes after variable reassignment, since they point to different memory address after variable assignment by new value."
   ]
  },
  {
   "cell_type": "markdown",
   "metadata": {
    "id": "g0A15EG-6pOc"
   },
   "source": [
    "**Complex Type**\n",
    "- consist of real part and imaginary part: a + jb\n",
    "- E.g. \n"
   ]
  },
  {
   "cell_type": "code",
   "execution_count": 1,
   "metadata": {
    "id": "VCJ8mvGb5bH-"
   },
   "outputs": [
    {
     "name": "stdout",
     "output_type": "stream",
     "text": [
      "2+3j\n"
     ]
    }
   ],
   "source": [
    "# assign complex number 2+jb to variable named \"complex_value\"\n",
    "# print the result\n",
    "\n",
    "complex_value =\"2+3j\"\n",
    "print(complex_value)"
   ]
  },
  {
   "cell_type": "code",
   "execution_count": 3,
   "metadata": {
    "id": "8pG_o5n1vpS4"
   },
   "outputs": [
    {
     "name": "stdout",
     "output_type": "stream",
     "text": [
      "2.0\n",
      "3.0\n"
     ]
    }
   ],
   "source": [
    "# extract imaginary part and real part separately\n",
    "# hint: .real, .imag\n",
    "complex_value =2+3j\n",
    "z=(complex_value.real,complex_value.imag)\n",
    "A=complex_value.real\n",
    "B=complex_value.imag\n",
    "print(A)\n",
    "print(B)\n",
    "\n"
   ]
  },
  {
   "cell_type": "markdown",
   "metadata": {
    "id": "t5mxl9o_v4Fy"
   },
   "source": [
    "Optionally, you can see all the attributes and methods of the object using `dir()` built in function. \n",
    "\n",
    "Example: dir(complex_value)"
   ]
  },
  {
   "cell_type": "code",
   "execution_count": null,
   "metadata": {
    "id": "gotE2bNSwLid"
   },
   "outputs": [],
   "source": [
    "# list attributes and methods of complex object type\n",
    "# use dir() built in function\n"
   ]
  },
  {
   "cell_type": "code",
   "execution_count": null,
   "metadata": {
    "id": "GhteCe41wYf9"
   },
   "outputs": [],
   "source": [
    "# get complex variable data type and print the result\n"
   ]
  },
  {
   "cell_type": "markdown",
   "metadata": {
    "id": "qjAmq7eNyhjH"
   },
   "source": [
    "- **complex()**: \n",
    "  - function to create complex numbers with Integer/Float Type parameters.\n",
    "  - returns a complex numbers (real + imaginary) when real and imaginary parts are passed.\n",
    "  - Syntax: complex(real_part, imaginary_part)\n",
    "    - Example: complex(1, 2) --> 1+2j\n",
    "  - It can also converts a string to a complex number.\n",
    "    - If first argument is string, then second argument shouldn't be passed else will raise TypeError.\n",
    "      - e.g. complex(\"2\", \"3j\") --> False\n",
    "    - Also, string must not contain whitespace around + or - operator else it \n",
    "  will raise ValueError in Python.\n",
    "      - e.g. complex(\"3 + 2j\")\n",
    "\n",
    "\n",
    "  - `Exercise`\n",
    "    1. Create a complex number 0j. \n",
    "      - Hint: do not pass any arguments.\n",
    "    2. Create a complex number 2+3j using complex() function passing integer 2 and 3. Get the data type, and print the result.\n",
    "    3. Create a complex number 2+3j using complex() function passing string as argument. Get the data type and print the result.\n",
    "  \n",
    "\n"
   ]
  },
  {
   "cell_type": "code",
   "execution_count": 7,
   "metadata": {
    "id": "QjQNQzT74eeS"
   },
   "outputs": [
    {
     "name": "stdout",
     "output_type": "stream",
     "text": [
      "<class 'complex'>\n"
     ]
    }
   ],
   "source": [
    "# 1. Create a complex number 0j. Get the Data Type and Print the result.\n",
    "A=complex()\n",
    "B=type(A)\n",
    "print(B)"
   ]
  },
  {
   "cell_type": "code",
   "execution_count": 8,
   "metadata": {
    "id": "7iK3BaUc04A6"
   },
   "outputs": [
    {
     "name": "stdout",
     "output_type": "stream",
     "text": [
      "the real part of complex number is: 2.0\n",
      "the imaginary part of complex number is: 3.0\n"
     ]
    }
   ],
   "source": [
    "# 2. Create a complex number 2+3j using complex() function passing integer 2 and 3.\n",
    "x=2\n",
    "y=3\n",
    "z=complex(x,y)\n",
    "print(\"the real part of complex number is: \",end=\"\")\n",
    "print(z.real)\n",
    "print(\"the imaginary part of complex number is: \",end=\"\")\n",
    "print(z.imag)\n",
    "\n"
   ]
  },
  {
   "cell_type": "code",
   "execution_count": 10,
   "metadata": {
    "id": "aslgCBXz4lX6"
   },
   "outputs": [
    {
     "ename": "TypeError",
     "evalue": "complex() can't take second arg if first is a string",
     "output_type": "error",
     "traceback": [
      "\u001b[1;31m---------------------------------------------------------------------------\u001b[0m",
      "\u001b[1;31mTypeError\u001b[0m                                 Traceback (most recent call last)",
      "Cell \u001b[1;32mIn[10], line 4\u001b[0m\n\u001b[0;32m      2\u001b[0m x\u001b[38;5;241m=\u001b[39m\u001b[38;5;124m\"\u001b[39m\u001b[38;5;124m2\u001b[39m\u001b[38;5;124m\"\u001b[39m\n\u001b[0;32m      3\u001b[0m y\u001b[38;5;241m=\u001b[39m\u001b[38;5;124m\"\u001b[39m\u001b[38;5;124m3\u001b[39m\u001b[38;5;124m\"\u001b[39m\n\u001b[1;32m----> 4\u001b[0m z\u001b[38;5;241m=\u001b[39m\u001b[38;5;28;43mcomplex\u001b[39;49m\u001b[43m(\u001b[49m\u001b[38;5;124;43m\"\u001b[39;49m\u001b[38;5;124;43mx\u001b[39;49m\u001b[38;5;124;43m\"\u001b[39;49m\u001b[43m,\u001b[49m\u001b[38;5;124;43m\"\u001b[39;49m\u001b[38;5;124;43my\u001b[39;49m\u001b[38;5;124;43m\"\u001b[39;49m\u001b[43m)\u001b[49m\n\u001b[0;32m      5\u001b[0m \u001b[38;5;28mprint\u001b[39m(\u001b[38;5;124m\"\u001b[39m\u001b[38;5;124mthe real part of complex number is: \u001b[39m\u001b[38;5;124m\"\u001b[39m,end\u001b[38;5;241m=\u001b[39m\u001b[38;5;124m\"\u001b[39m\u001b[38;5;124m\"\u001b[39m)\n\u001b[0;32m      6\u001b[0m \u001b[38;5;28mprint\u001b[39m(z\u001b[38;5;241m.\u001b[39mreal)\n",
      "\u001b[1;31mTypeError\u001b[0m: complex() can't take second arg if first is a string"
     ]
    }
   ],
   "source": [
    "# 3. Create a complex number 2+3j using complex() function passing string as argument. Get the data type and print the result.\n",
    "x=2\n",
    "y=3\n",
    "z=complex(x,y)\n",
    "print(\"the real part of complex number is: \",end=\"\")\n",
    "print(z.real)\n",
    "print(\"the imaginary part of complex number is: \",end=\"\")\n",
    "print(z.imag)\n"
   ]
  },
  {
   "cell_type": "markdown",
   "metadata": {
    "id": "CVO7asWr5Tbf"
   },
   "source": [
    "## 2. Boolean Type \n",
    "- Boolean Type holds one of 2 values `True` or `False`.\n",
    "- Case sensitive: True != true  or  False != false\n",
    "- Output of listed operators are of Boolean Type\n",
    "  - `Comparison Operators (7 == 7)`\n",
    "  - `Logical Operators (not(1<5))`\n",
    "  - `Identity Operators (x is y)`\n"
   ]
  },
  {
   "cell_type": "code",
   "execution_count": 5,
   "metadata": {
    "id": "M2saNcKI5S8e"
   },
   "outputs": [
    {
     "name": "stdout",
     "output_type": "stream",
     "text": [
      "True\n"
     ]
    }
   ],
   "source": [
    "# create a variable of boolean type named \"bool_val\"\n",
    "bool_val = True\n",
    "print(bool_val)"
   ]
  },
  {
   "cell_type": "code",
   "execution_count": 6,
   "metadata": {
    "id": "AoyKbXctF1zN"
   },
   "outputs": [
    {
     "name": "stdout",
     "output_type": "stream",
     "text": [
      "<class 'bool'>\n"
     ]
    }
   ],
   "source": [
    "# get the type of boolean variable \n",
    "x=type(bool_val)\n",
    "print(x)"
   ]
  },
  {
   "cell_type": "markdown",
   "metadata": {
    "id": "r0QNslZTHLrU"
   },
   "source": [
    "**Most values are True**  \n",
    "- Any number is True (+ve, -ve) except 0.\n",
    "- Any string is True, except empty string.\n",
    "- Any list, tuple, set, and dictionary are True, except empty ones.\n",
    "\n",
    "You can use **bool()** function to evaluate any values, that returns `True` or `False`"
   ]
  },
  {
   "cell_type": "code",
   "execution_count": 13,
   "metadata": {
    "id": "m_0dc_EFGOO6"
   },
   "outputs": [
    {
     "name": "stdout",
     "output_type": "stream",
     "text": [
      "True\n",
      "True\n",
      "True\n"
     ]
    }
   ],
   "source": [
    "# Evaluate using bool() for \n",
    "# 1. any non zero integer, float \n",
    "# 2. any non empty string\n",
    "#\n",
    "# Hint: bool(value)\n",
    "x=bool(7)\n",
    "print(x)\n",
    "y=bool(7.7)\n",
    "print(y)\n",
    "z=bool(\"pabin\")\n",
    "print(z)"
   ]
  },
  {
   "cell_type": "markdown",
   "metadata": {
    "id": "_wUTCL1yII3E"
   },
   "source": [
    "**Some values are False**  \n",
    "- number `0 or 0.0` evaluates to False\n",
    "- Value `None` evaluates to False\n",
    "- False `evaluates` to False\n",
    "- empty string `\"\"` evaluates to False\n",
    "- Empty values, `(), [], {}`, evaluates to False"
   ]
  },
  {
   "cell_type": "code",
   "execution_count": 14,
   "metadata": {
    "id": "VC7b59BrIFOo"
   },
   "outputs": [
    {
     "name": "stdout",
     "output_type": "stream",
     "text": [
      "False\n",
      "False\n"
     ]
    }
   ],
   "source": [
    "# Experiment above cases with bool() function\n",
    "print(bool(0))\n",
    "print(bool(0.0))\n"
   ]
  },
  {
   "cell_type": "markdown",
   "metadata": {
    "id": "8_wI-iTnGMsQ"
   },
   "source": [
    "**Python Conditions quick intro**\n",
    "\n",
    "Q. Write a python program to get two inputs a and b from user and print message\n",
    "  - \"a is greater than b\" if a > b\n",
    "  - \"a is equal to b\" if a = b\n",
    "  - \"a is less than b\" if a < b"
   ]
  },
  {
   "cell_type": "code",
   "execution_count": 5,
   "metadata": {
    "id": "IR7jwGZ0GLTt"
   },
   "outputs": [
    {
     "name": "stdin",
     "output_type": "stream",
     "text": [
      "enter a number 10\n",
      "enter a secodn number 20\n"
     ]
    },
    {
     "name": "stdout",
     "output_type": "stream",
     "text": [
      "b is greater than a\n"
     ]
    }
   ],
   "source": [
    "## write your program here\n",
    "a= int(input(\"enter a number\"))\n",
    "b= int(input(\"enter a second number\"))\n",
    "if a==b:\n",
    "    print(\"a is equal to b\")\n",
    "elif a>b:\n",
    "          print(\"a is greater than b\")\n",
    "elif b>a:\n",
    "    print(\"b is greater than a\")"
   ]
  },
  {
   "cell_type": "markdown",
   "metadata": {
    "id": "Sb4A71K7OfkA"
   },
   "source": [
    "**Given a = 10 and b = 20, what is the output of a and b?** Why?"
   ]
  }
 ],
 "metadata": {
  "colab": {
   "authorship_tag": "ABX9TyPP1eO9Dg2ZoPtd204dqOE0",
   "provenance": []
  },
  "kernelspec": {
   "display_name": "Python 3 (ipykernel)",
   "language": "python",
   "name": "python3"
  },
  "language_info": {
   "codemirror_mode": {
    "name": "ipython",
    "version": 3
   },
   "file_extension": ".py",
   "mimetype": "text/x-python",
   "name": "python",
   "nbconvert_exporter": "python",
   "pygments_lexer": "ipython3",
   "version": "3.12.1"
  }
 },
 "nbformat": 4,
 "nbformat_minor": 4
}
