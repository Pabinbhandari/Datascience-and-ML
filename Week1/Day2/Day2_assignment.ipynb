{
 "cells": [
  {
   "cell_type": "code",
   "execution_count": 1,
   "id": "f06881e1-862a-495c-b7dc-14c4272fc84d",
   "metadata": {},
   "outputs": [
    {
     "name": "stdout",
     "output_type": "stream",
     "text": [
      "myfirstvariableassignment\n"
     ]
    }
   ],
   "source": [
    "##Creating a variable name in snake case format(each word is seperated by underscore) and assigning value\n",
    "\n",
    "variable_test = \"myfirstvariableassignment\"\n",
    "print(variable_test)"
   ]
  },
  {
   "cell_type": "code",
   "execution_count": 2,
   "id": "d30ec071-0f22-4c21-8b71-53f32814daa5",
   "metadata": {},
   "outputs": [
    {
     "name": "stdout",
     "output_type": "stream",
     "text": [
      "20\n"
     ]
    }
   ],
   "source": [
    "Age = 20\n",
    "print(Age)"
   ]
  },
  {
   "cell_type": "code",
   "execution_count": 3,
   "id": "1286456c-576c-4cb4-92f6-707168f43a7c",
   "metadata": {},
   "outputs": [
    {
     "name": "stdout",
     "output_type": "stream",
     "text": [
      "50\n"
     ]
    }
   ],
   "source": [
    "x=20\n",
    "y=30\n",
    "z=x+y\n",
    "print(z)"
   ]
  },
  {
   "cell_type": "code",
   "execution_count": 5,
   "id": "ce9df073-b153-4d5e-8de5-739832b8007f",
   "metadata": {},
   "outputs": [
    {
     "name": "stdout",
     "output_type": "stream",
     "text": [
      "Apple\n",
      "Apple\n",
      "Apple\n"
     ]
    }
   ],
   "source": [
    "\n",
    "## Creating a three variables and assigning same value in one code line\n",
    "x=y=z=\"Apple\"\n",
    "print(x)\n",
    "print(y)\n",
    "print(z)"
   ]
  },
  {
   "cell_type": "code",
   "execution_count": 8,
   "id": "227ec784-a1d4-467f-b3c8-190fd1b87585",
   "metadata": {},
   "outputs": [
    {
     "name": "stdin",
     "output_type": "stream",
     "text": [
      "Enter first number 2\n",
      "Enter second number 3\n"
     ]
    },
    {
     "name": "stdout",
     "output_type": "stream",
     "text": [
      "result_add 23\n"
     ]
    }
   ],
   "source": [
    "num1 = input(\"Enter first number\")\n",
    "num2 = input(\"Enter second number\")\n",
    "result_add = num1+num2\n",
    "print(\"result_add\",result_add)"
   ]
  },
  {
   "cell_type": "code",
   "execution_count": 16,
   "id": "40cdbf6d-53f6-4158-93a3-9861912e7bf5",
   "metadata": {},
   "outputs": [
    {
     "name": "stdout",
     "output_type": "stream",
     "text": [
      "   *   \n",
      "  * *  \n",
      " *   * \n",
      "*******\n"
     ]
    }
   ],
   "source": [
    "## Creating a python program to draw a triangle shape using print statement only\n",
    "\n",
    "for row in range(1,5):\n",
    "    for col in range(1,8):\n",
    "        if row==4 or row+col==5 or col-row==3:\n",
    "            print(\"*\",end=\"\")\n",
    "        else:\n",
    "             print(end=\" \")\n",
    "    print()\n",
    "            "
   ]
  },
  {
   "cell_type": "code",
   "execution_count": null,
   "id": "7cdcdf09-a102-4dc6-97f7-4491594db3bb",
   "metadata": {},
   "outputs": [],
   "source": []
  }
 ],
 "metadata": {
  "kernelspec": {
   "display_name": "Python 3 (ipykernel)",
   "language": "python",
   "name": "python3"
  },
  "language_info": {
   "codemirror_mode": {
    "name": "ipython",
    "version": 3
   },
   "file_extension": ".py",
   "mimetype": "text/x-python",
   "name": "python",
   "nbconvert_exporter": "python",
   "pygments_lexer": "ipython3",
   "version": "3.12.1"
  }
 },
 "nbformat": 4,
 "nbformat_minor": 5
}
